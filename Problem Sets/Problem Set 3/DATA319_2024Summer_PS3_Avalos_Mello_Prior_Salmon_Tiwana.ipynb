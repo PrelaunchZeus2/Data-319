{
  "cells": [
    {
      "cell_type": "markdown",
      "metadata": {
        "tags": [],
        "id": "vZTQrtyjI0tF"
      },
      "source": [
        "<h2> DATA 319: Model-based and Data-based Methods for Data Analytics. Summer 2024 </h2>\n",
        "<h3> Problem Set 3 </h3>\n",
        "<h3> Team <i> (3) </i></h3>\n",
        "<h3> Type students' names <i> (only those who contributed to the group work)</i> here : Kikzely Avalos, James Mello, Benjamin Prior, John Salmon, Harpreet Tiwana</h3>"
      ]
    },
    {
      "cell_type": "markdown",
      "metadata": {
        "id": "BBPFpspOI0tI"
      },
      "source": [
        "#### 1. In your own words, explain the difference between two tests: ANOVA and MANOVA. How MANOVA is different from a multi-factor ANOVA?\n",
        "On a base level, ANOVA and MANOVA are different in the fact that MANOVA uses more than one dependent variables. Hence the M in MANOVA standing for Multivariate. ANOVA on the other hand is univariate, meaning it only uses one dependent variable. MANOVA uses multiple variables to compare multiple sample means. With multi factor ANOVA, you still use one dependent variable, while with MANOVA you can use multiple."
      ]
    },
    {
      "cell_type": "markdown",
      "metadata": {
        "id": "rFW0tbjPI0tJ"
      },
      "source": [
        "#### 2. For the following two variables\n",
        "\n",
        "\\begin{bmatrix} X & Y\\\\ 2 & 2\\\\ 0 & 0\\\\ -1 & 3 \\\\ 0 & 1\\\\ 0 & 1\\\\ 0 & 1\\\\ 1 & -1\\\\ 1 & 0 \\end{bmatrix}\n",
        "\n",
        "##### (a) Perform a hypothesis test to check whether the population means of the two variables are the same at the α = .05 significance level (assume unequal variances).\n",
        "Null hypothesis (H0): suggests that the population means are equal.\n",
        "Alternative Hypothesis (H1): population means are not equal.\n",
        "\n",
        "A two-sample t-test is performed down below to compare the population means.\n",
        "Based on the results, the p-value is greater than the significance level α=0.05 and therefore we fail to reject the null hypothesis. There is no difference in the population means.\n",
        "\n",
        "##### (b) Report the value of your test statistic and the critical value of the test. Report the p-value of the test and your test decision.\\\n",
        "The t-test value is -0.9142 and the critical value is 2.14, and p-value is 0.377. Based on these results, we fail to reject the null hypothesis."
      ]
    },
    {
      "cell_type": "code",
      "source": [
        "import numpy as np\n",
        "from scipy import stats\n",
        "\n",
        "X = np.array([2, 0, -1, 0, 0, 0, 1, 1])\n",
        "Y = np.array([2, 0, 3, 1, 1, 1, -1, 0])\n",
        "\n",
        "x_mean = np.mean(X)\n",
        "y_mean = np.mean(Y)\n",
        "x_std = np.std(X, ddof=1)\n",
        "y_std = np.std(Y, ddof=1)\n",
        "\n",
        "size_x = len(X)\n",
        "size_y = len(Y)\n",
        "\n",
        "#assuming unequal variances\n",
        "t_stat, p_value = stats.ttest_ind(X, Y, equal_var=False)\n",
        "print(\"T-statistic:\", t_stat)\n",
        "print(\"P-value:\", p_value)\n",
        "\n",
        "df = size_x + size_y - 2\n",
        "alpha = 0.05\n",
        "critical = stats.t.ppf(1 - alpha/2, df)\n",
        "print(\"Critical value:\", critical)\n",
        "\n",
        "test = abs(t_stat) > critical\n",
        "print(\"Reject null hypothesis: \", test)"
      ],
      "metadata": {
        "id": "qEydMLOzQKpi"
      },
      "execution_count": null,
      "outputs": []
    },
    {
      "cell_type": "markdown",
      "metadata": {
        "id": "H0ySmjiDI0tK"
      },
      "source": [
        "#### 3. This problem references the `baseball.csv` dataset, which has six variables (At Bats, Walks, Strikeouts, Hits, Home Runs) for 25 players from MLB 2021 season.\n",
        "\n",
        "##### (a) Report the sample means for each of these six variables.\n",
        "\n",
        "##### (b) Perform a hypothesis test against $\\mu = (570, 60, 130, 160, 30, 90)$ representing the prior year full-league averages at the α = .05 significance level. Report the value of your test statistic and the critical value of the test. Report the p-value of the test and your test decision.\n",
        "\n",
        "##### (c) Compute $T^2$ simultaneous confidence intervals to give coverage at the 95% confidence level.\n",
        "\n",
        "##### (d) Compute simultaneous confidence intervals using Bonferroni correction to give coverage at the 95% confidence level.\n",
        "\n",
        "##### (e) Use your intervals from parts (c) and (d) to determine which component(s) are causing the difference identified in your hypothesis test (if any).\n",
        "Each component’s means fall within the ranges of the T^2 simultaneous confidence intervals at the 95% confidence level and Bonferroni correction intervals at the 95% confidence level. For instance, At_Bats has a mean of 571.24 and is in the range of T^2 confidence intervals at 529.79, 612.68 and Bonferroni correction interval at 544.54, 597.93. This means that each component such as At_Bats, Walks, Strikeouts, Hits, Home_Runs, and Runs_Scored are not causing a difference."
      ]
    },
    {
      "cell_type": "code",
      "source": [
        "import importlib\n",
        "\n",
        "for module_name in [\"numpy\", \"scipy\", \"pandas\", \"matplotlib\", \"mpl_toolkits\", \"hotelling\"]:\n",
        "    try:\n",
        "        importlib.import_module(module_name)\n",
        "    except ModuleNotFoundError:\n",
        "        print(f\"Installing module {module_name}\")\n",
        "        %pip install $module_name\n",
        "\n",
        "import numpy as np\n",
        "import pandas as pd\n",
        "from scipy import stats\n",
        "from hotelling.stats import hotelling_t2\n",
        "\n",
        "baseball = pd.read_csv(\"baseball.csv\")\n",
        "xbar = np.mean(baseball, 0)\n",
        "print(\"\\n******************************\\n\")\n",
        "print(f\"Means of all variables:\\n{xbar}\")\n",
        "print(\"\\n******************************\\n\")\n",
        "\n",
        "(t2, f_val, p_val, s) = hotelling_t2(baseball, np.array([570, 60, 130, 160, 30, 90]))\n",
        "\n",
        "alpha = 0.05\n",
        "n = len(baseball)\n",
        "p = len(baseball.columns.tolist())\n",
        "critical = ((p*(n-1))/(n-p)) * stats.f.ppf(1 - alpha,p,n-p)\n",
        "\n",
        "print(f\"The critical value is {critical_val} while the test statistic is {t2}\")\n",
        "print(f\"It is {str(abs(t2) > critical).lower()} that we should reject the null hypothesis\")\n",
        "print(\"\\n******************************\\n\")\n",
        "\n",
        "S = np.cov(baseball.T)\n",
        "simultaneous_intervals = []\n",
        "\n",
        "for i in range(p):\n",
        "    simultaneous_intervals.append([xbar.iloc[i] - np.sqrt(critical * S[i,i]/n), xbar.iloc[i] + np.sqrt(critical * S[i,i]/n) ])\n",
        "\n",
        "print(\"T^2 Simultaneous confidence intervals at the 95% confidence level:\")\n",
        "for entry in zip(baseball.columns, simultaneous_intervals):\n",
        "    print(f\"  * {entry[0]} - low {entry[1][0]}, high {entry[1][1]}\")\n",
        "print(\"\\n******************************\\n\")\n",
        "\n",
        "bonf_alpha = alpha / p\n",
        "bonferroni_correction = []\n",
        "\n",
        "for i in range(p):\n",
        "    bonferroni_correction.append(stats.ttest_1samp(baseball.iloc[:,i],xbar.iloc[i]).confidence_interval(confidence_level=1-bonf_alpha))\n",
        "\n",
        "print(\"Bonferroni correction intervals at the 95% confidence level:\")\n",
        "for entry in zip(baseball.columns, bonferroni_correction):\n",
        "    print(f\"  * {entry[0]} - low {entry[1][0]}, high {entry[1][1]}\")\n",
        "print(\"\\n******************************\\n\")"
      ],
      "metadata": {
        "id": "7ik3uDtXPdV3"
      },
      "execution_count": null,
      "outputs": []
    },
    {
      "cell_type": "markdown",
      "metadata": {
        "id": "uoEFu46VI0tK"
      },
      "source": [
        "#### 4. Consider the following multivariate dataset\n",
        "\n",
        "#### $X = \\begin{bmatrix}2&2&3\\\\0&0&2\\\\-1&3&2\\\\0&1&1\\\\0&1&5\\\\0&1&3\\\\1&-1&3\\\\1&0&5\\end{bmatrix}$\n",
        "\n",
        "##### (a) Perform a hypothesis test with the null hypothesis $H_0 : (\\mu_1 - \\mu_2, \\mu_1 - \\mu_3) = (0, 0)$ at the α = .05 significance level. Obtain the differences using the contrast matrix. Report the value of your test statistic and the critical value of the test. Report the p-value of the test and your test decision.\n",
        "\n",
        "For α = 0.05 significance level, the test statistic is 27.8127 which is greater than the critical value at 11.5722. The p-value is 0.00906 which is less than α = 0.05. This means that in the test decision we reject the null hypothesis.\n",
        "\n",
        "##### (b) Will your test decision change at α = .01? At α = .001?\n",
        "\n",
        "For α = 0.01 significance level, the test statistic is 27.8127 which is slightly greater than the critical value at 26.5478. Also, since the p-value is less than α = 0.01, we reject the null hypothesis. For α = 0.001 significance level, the test statistic is actually less than the critical value which is 74.2446 and the p-value is 0.00906 which is greater than α = 0.001. This means that we fail to reject the null hypothesis. Overall, the test decision does change at α = 0.001 but is the same for α = 0.05 and α = 0.01.\n"
      ]
    },
    {
      "cell_type": "code",
      "source": [
        "# part a:\n",
        "\n",
        "import numpy as np\n",
        "from scipy import stats\n",
        "\n",
        "# making table into a matrix\n",
        "X = np.array([[2, 2, 3],\n",
        "[0, 0, 2],\n",
        "[-1, 3, 2],\n",
        "[0, 1, 1],\n",
        "[0, 1, 5],\n",
        "[0, 1, 3],\n",
        "[1, -1, 3],\n",
        "[1, 0, 5]])\n",
        "\n",
        "# getting the sample means\n",
        "sample_means = X.mean(axis=0)\n",
        "\n",
        "# using contrast matrix to get the differences\n",
        "contrast = np.array([[1, -1, 0],\n",
        "              [1, 0, -1]])\n",
        "\n",
        "mean_diffs = np.dot(contrast, sample_means)\n",
        "\n",
        "# number of observations and variables\n",
        "n, p = X.shape\n",
        "\n",
        "# getting the covariance matrix\n",
        "covariance = np.cov(X, rowvar=False)\n",
        "\n",
        "# test statistic and degrees of freedom\n",
        "inv = np.linalg.inv(np.dot(np.dot(contrast, covariance), contrast.T))\n",
        "test_statistic = n * np.dot(np.dot(mean_diffs.T, inv), mean_diffs)\n",
        "\n",
        "df1 = contrast.shape[0]\n",
        "df2 = n - p\n",
        "\n",
        "# critical value and p-value for α = .05 significance level\n",
        "alpha = 0.05\n",
        "\n",
        "critical_value = df1 * stats.f.ppf(1 - alpha, df1, df2)\n",
        "p_value = 1 - stats.f.cdf(test_statistic / df1, df1, df2)\n",
        "\n",
        "results_for_05 = (test_statistic, critical_value, p_value)\n",
        "\n",
        "print(\"α = .05:\", results_for_05)\n",
        "\n",
        "# part b: checking different significance levels for α = 0.01 and α = 0.001\n",
        "# critical value and p-value\n",
        "alpha1 = 0.01\n",
        "critical_value1 = df1 * stats.f.ppf(1 - alpha1, df1, df2)\n",
        "\n",
        "alpha2 = 0.001\n",
        "critical_value2 = df1 * stats.f.ppf(1 - alpha2, df1, df2)\n",
        "\n",
        "results_for_01 = (critical_value1, p_value < alpha1)\n",
        "results_for_001 = (critical_value2, p_value < alpha2)\n",
        "\n",
        "print(\"α = .01:\", results_for_01)\n",
        "print(\"α = .001:\", results_for_001)"
      ],
      "metadata": {
        "id": "5E_QlBrxQ_1i",
        "colab": {
          "base_uri": "https://localhost:8080/"
        },
        "outputId": "27a7f6f6-e5e9-4efb-ab5e-3c31082c8170"
      },
      "execution_count": null,
      "outputs": [
        {
          "output_type": "stream",
          "name": "stdout",
          "text": [
            "α = .05: (27.812709030100336, 11.572270086699929, 0.009063997819291791)\n",
            "α = .01: (26.54786722400965, True)\n",
            "α = .001: (74.24465962305564, False)\n"
          ]
        }
      ]
    },
    {
      "cell_type": "markdown",
      "metadata": {
        "id": "0q-aKt-TI0tL"
      },
      "source": [
        "#### 5. This problem references the `anova.csv` dataset, which has three numerical columns: $X_1$, $X_2$, and $X_3$ and a fourth categorical column that separates the observations into three classes: \"A\", \"B\", and \"C\".\n",
        "\n",
        "##### (a) Evaluate whether the data $(X_1, X_2, X_3)$ arises from a multivariate normal distribution using visual analysis tools. Construct univariate histograms, univariate probability plots, and pairwise scatterplots.\n",
        "On examination it looks as though the $x_2$ and $x_3$ plots are normally distributed as there appears to be a bell curve in the histogram plot and the probability plots have a well fitted diagonal line. the $x_1$ column does not appear to be normal because its histogram is scattered and and probability plot does not appear linear. It will have to be adjusted.\n",
        "\n",
        "##### (b) If you decided in part (a) that any of the columns were not normal, perform a suitable transformation to alleviate this problem.\n",
        "See Code Below\n",
        "##### (c) Using your (potentially) transformed dataset from part (b) how would you test if the population means across all three groups are equal? State your null hypothesis.\n",
        "Using ANOVA or ANalysis Of VAriance we can test the differences between the means of the populations or columns. The null hypothesis is that $H_0 = \\mu_1 = \\mu_2 = \\mu_3$ or the population means are all equal. The alternative hypothesis is that one or more of the means does not equal the others.\n",
        "##### (d) Perform a hypothesis test at the α = .05 significance level. What is the test statistic used for this test? Report the p-value of the test and your test decision.\n",
        "The test statistic for ANOVA is the F value which tells us the ratio of variance between groups to the variance of groups. It should be close to 1 if our null hypothesis is true because the variance would be roughly equal. In this case it was 42 but our P value was very very small so we reject the null hypothesis and conclude that the means are not the same."
      ]
    },
    {
      "cell_type": "code",
      "source": [
        "#%pip install -q pandas matplotlib scipy numpy seaborn\n",
        "import pandas as pd\n",
        "import matplotlib.pyplot as plt\n",
        "from scipy import stats\n",
        "import numpy as np\n",
        "import seaborn as sns\n",
        "\n",
        "#create DF from csv\n",
        "anova_pd = pd.read_csv('anova.csv')\n",
        "anova_pd.drop('Type', axis = 1, inplace = True) #drop the Type column as its not numeric\n",
        "anova_pd.drop(anova_pd.columns[0], axis = 1, inplace = True) #drop the first index column\n",
        "\n",
        "\n",
        "\n",
        "#A\n",
        "#Histogram\n",
        "for column in anova_pd:\n",
        "    plt.figure()\n",
        "    anova_pd[column].hist()\n",
        "    plt.title(column + ' Histogram')\n",
        "\n",
        "#Probability plot\n",
        "for column in anova_pd:\n",
        "    plt.figure()\n",
        "    stats.probplot(anova_pd[column], plot = plt)\n",
        "    plt.title(column + ' Probability Plot')\n",
        "\n",
        "#Pairwise scatter plot\n",
        "sns.pairplot(anova_pd)\n",
        "plt.show()\n",
        "\n"
      ],
      "metadata": {
        "id": "OOb0epSkkCnL"
      },
      "execution_count": null,
      "outputs": []
    },
    {
      "cell_type": "code",
      "source": [
        "#B\n",
        "#Log Transform X_1 Column\n",
        "anova_pd['X1'] = anova_pd['X1'].apply(lambda x: (.5*np.log(x/(1-x))))\n",
        "plt.figure()\n",
        "anova_pd['X1'].hist()\n",
        "plt.title('X1 Histogram After Transform')\n",
        "plt.figure()\n",
        "stats.probplot(anova_pd['X1'], plot = plt)\n",
        "plt.title('X1 Probability Plot After Transform')\n",
        "plt.show()"
      ],
      "metadata": {
        "id": "9ospbKh2kGUp"
      },
      "execution_count": null,
      "outputs": []
    },
    {
      "cell_type": "code",
      "source": [
        "#D\n",
        "#ANOVA\n",
        "alpha = 0.05\n",
        "f_value, p_value = stats.f_oneway(anova_pd['X1'], anova_pd['X2'], anova_pd['X3'])\n",
        "print('F Value:', f_value)\n",
        "print('P Value:', p_value)\n",
        "\n",
        "if p_value < alpha:\n",
        "    print('Reject Null Hypothesis')\n",
        "else:\n",
        "    print('Fail to Reject Null Hypothesis')"
      ],
      "metadata": {
        "id": "A7d4QCtbkKhB"
      },
      "execution_count": null,
      "outputs": []
    }
  ],
  "metadata": {
    "kernelspec": {
      "display_name": "Python 3 (ipykernel)",
      "language": "python",
      "name": "python3"
    },
    "language_info": {
      "codemirror_mode": {
        "name": "ipython",
        "version": 3
      },
      "file_extension": ".py",
      "mimetype": "text/x-python",
      "name": "python",
      "nbconvert_exporter": "python",
      "pygments_lexer": "ipython3",
      "version": "3.11.5"
    },
    "colab": {
      "provenance": []
    }
  },
  "nbformat": 4,
  "nbformat_minor": 0
}