{
 "cells": [
  {
   "cell_type": "markdown",
   "id": "cc9a2b22",
   "metadata": {},
   "source": [
    "In this notebook we will examine implementations of the multivariate hypothesis testing methods discussed in the slides."
   ]
  },
  {
   "cell_type": "code",
   "execution_count": 1,
   "id": "4c7f6199",
   "metadata": {},
   "outputs": [],
   "source": [
    "import numpy as np\n",
    "\n",
    "from mpl_toolkits.mplot3d import axes3d\n",
    "import matplotlib.pyplot as plt\n",
    "from matplotlib import cm\n",
    "\n",
    "from scipy import stats\n",
    "\n",
    "import scipy.spatial.distance as distance\n",
    "\n",
    "import pandas as pd\n",
    "\n",
    "import statsmodels.api as sm\n",
    "\n",
    "import numpy.linalg as LA\n",
    "\n",
    "from hotelling.stats import hotelling_t2"
   ]
  },
  {
   "cell_type": "markdown",
   "id": "b5415e08",
   "metadata": {},
   "source": [
    "We'll start with the univariate t test on the Subway \"footlong\" data"
   ]
  },
  {
   "cell_type": "code",
   "execution_count": 2,
   "id": "052a235f",
   "metadata": {},
   "outputs": [],
   "source": [
    "subs1 = pd.read_csv(\"./Subway.csv\")"
   ]
  },
  {
   "cell_type": "code",
   "execution_count": 3,
   "id": "f563d272",
   "metadata": {},
   "outputs": [
    {
     "name": "stdout",
     "output_type": "stream",
     "text": [
      "-5.406520180502453\n"
     ]
    }
   ],
   "source": [
    "xbar = np.mean(subs1['length'])\n",
    "sdev = np.std(subs1['length'])\n",
    "\n",
    "n = len(subs1)\n",
    "\n",
    "SE = sdev/np.sqrt(n)\n",
    "\n",
    "SE = stats.sem(subs1['length'])\n",
    "\n",
    "tval = (xbar - 12)/SE\n",
    "\n",
    "print(tval)"
   ]
  },
  {
   "cell_type": "code",
   "execution_count": 4,
   "id": "930b9084",
   "metadata": {},
   "outputs": [
    {
     "name": "stdout",
     "output_type": "stream",
     "text": [
      "1.993480985840179e-06\n"
     ]
    }
   ],
   "source": [
    "pval = 2 * (1-stats.t.cdf(abs(tval),df = n-1))\n",
    "print(pval)"
   ]
  },
  {
   "cell_type": "code",
   "execution_count": 5,
   "id": "2123d0da",
   "metadata": {},
   "outputs": [
    {
     "name": "stdout",
     "output_type": "stream",
     "text": [
      "2.0106347546964454\n"
     ]
    }
   ],
   "source": [
    "alpha = .05\n",
    "\n",
    "critical = stats.t.ppf(1-alpha/2,n-1)\n",
    "print(critical)"
   ]
  },
  {
   "cell_type": "code",
   "execution_count": 6,
   "id": "27b9cd6f",
   "metadata": {},
   "outputs": [
    {
     "data": {
      "text/plain": [
       "True"
      ]
     },
     "execution_count": 6,
     "metadata": {},
     "output_type": "execute_result"
    }
   ],
   "source": [
    "abs(tval) > critical"
   ]
  },
  {
   "cell_type": "code",
   "execution_count": 7,
   "id": "1424361a",
   "metadata": {},
   "outputs": [
    {
     "name": "stdout",
     "output_type": "stream",
     "text": [
      "[11.727045168087042, 11.875029800011628]\n"
     ]
    }
   ],
   "source": [
    "con_int = [xbar-critical*SE, xbar+critical*SE]\n",
    "print(con_int)"
   ]
  },
  {
   "cell_type": "code",
   "execution_count": 8,
   "id": "bef3f4b5",
   "metadata": {},
   "outputs": [
    {
     "data": {
      "text/plain": [
       "TtestResult(statistic=-5.406520180502453, pvalue=1.993480985879555e-06, df=48)"
      ]
     },
     "execution_count": 8,
     "metadata": {},
     "output_type": "execute_result"
    }
   ],
   "source": [
    "#There is also a built-in function that returns the same results\n",
    "stats.ttest_1samp(subs1['length'],12)"
   ]
  },
  {
   "cell_type": "markdown",
   "id": "033e4b68",
   "metadata": {},
   "source": [
    "Since our dataset has 49 data points, we expect the mean to be distributed as a t distribution with 48 degrees of freedom.\n",
    "We get the same values either way which is a good sign! And in this case our p-value is low enough (or\n",
    "equivalently our tvalue is in the rejection region), so we feel comfortable rejecting the null hypothesis. Having\n",
    "discovered that our nearest sandwich shop is problematic, we might try visiting the other shop in town and\n",
    "seeing if we can compare the two values:"
   ]
  },
  {
   "cell_type": "code",
   "execution_count": 9,
   "id": "13ee9407",
   "metadata": {},
   "outputs": [],
   "source": [
    "subs2 = pd.read_csv('./Subway2.csv')"
   ]
  },
  {
   "cell_type": "code",
   "execution_count": 10,
   "id": "2d053d21",
   "metadata": {},
   "outputs": [
    {
     "data": {
      "text/plain": [
       "TtestResult(statistic=-2.6237446509553415, pvalue=0.013990839265349882, df=27.65913695385578)"
      ]
     },
     "execution_count": 10,
     "metadata": {},
     "output_type": "execute_result"
    }
   ],
   "source": [
    "stats.ttest_ind(subs1['length'],subs2['length'],equal_var = False)"
   ]
  },
  {
   "cell_type": "code",
   "execution_count": 11,
   "id": "aa70fc7d",
   "metadata": {},
   "outputs": [
    {
     "name": "stdout",
     "output_type": "stream",
     "text": [
      "-2.677496956892342\n"
     ]
    }
   ],
   "source": [
    "x2bar = np.mean(subs2['length'])\n",
    "\n",
    "sdev2 = np.std(subs2['length'])\n",
    "\n",
    "n2 = len(subs2)\n",
    "\n",
    "tval = (xbar-x2bar)/(np.sqrt(sdev**2/n + sdev2**2/n2))\n",
    "\n",
    "print(tval)"
   ]
  },
  {
   "cell_type": "markdown",
   "id": "0eeaf30f",
   "metadata": {},
   "source": [
    "This is likely to lead us to reject the hypothesis that these are drawn from the same distribution and hence assume that there is a meaningful difference between the restaurants."
   ]
  },
  {
   "cell_type": "markdown",
   "id": "c786bd65",
   "metadata": {},
   "source": [
    "For multivariate data the presence of covariance means that we don’t just want to test the individual variables\n",
    "separately. We’ll take a look at some SAT data from EWU as an example, comparing to the national averages\n",
    "of 528 and 531. One thing to note is that the test statistic returned by the function is the normalized version\n",
    "that is distributed according to the F distribution. For this example with p=2 and 87 data points, this is the\n",
    "F distribution with 2 and 85 degrees of freedom."
   ]
  },
  {
   "cell_type": "code",
   "execution_count": 12,
   "id": "e77c2b20",
   "metadata": {},
   "outputs": [],
   "source": [
    "EWU = pd.read_csv(\"./EWU_SAT.csv\")\n",
    "EWU.head()\n",
    "\n",
    "EWU_array = np.array(EWU[['Math','Language']])"
   ]
  },
  {
   "cell_type": "code",
   "execution_count": null,
   "id": "c08a2f96",
   "metadata": {},
   "outputs": [],
   "source": []
  },
  {
   "cell_type": "code",
   "execution_count": 13,
   "id": "da8d0145",
   "metadata": {},
   "outputs": [
    {
     "data": {
      "text/plain": [
       "(0.6421600200912195,\n",
       " 0.31734652155670734,\n",
       " 0.728937286734304,\n",
       " array([[5808.05934242, 5355.11467522],\n",
       "        [5355.11467522, 8287.43624699]]))"
      ]
     },
     "execution_count": 13,
     "metadata": {},
     "output_type": "execute_result"
    }
   ],
   "source": [
    "hotelling_t2(EWU_array,np.array([528,531]))"
   ]
  },
  {
   "cell_type": "code",
   "execution_count": 14,
   "id": "436217c9",
   "metadata": {},
   "outputs": [
    {
     "name": "stdout",
     "output_type": "stream",
     "text": [
      "[526.5862069  534.55172414]\n"
     ]
    }
   ],
   "source": [
    "xbar = np.mean(EWU_array,0)\n",
    "print(xbar)"
   ]
  },
  {
   "cell_type": "code",
   "execution_count": 15,
   "id": "edd6492a",
   "metadata": {},
   "outputs": [
    {
     "name": "stdout",
     "output_type": "stream",
     "text": [
      "[[5808.05934242 5355.11467522]\n",
      " [5355.11467522 8287.43624699]]\n"
     ]
    }
   ],
   "source": [
    "S = np.cov(EWU_array.T)\n",
    "print(S)"
   ]
  },
  {
   "cell_type": "code",
   "execution_count": 16,
   "id": "5baeb205",
   "metadata": {},
   "outputs": [
    {
     "name": "stdout",
     "output_type": "stream",
     "text": [
      "0.6421600200912195\n"
     ]
    }
   ],
   "source": [
    "n = len(EWU)\n",
    "\n",
    "HT2 = n* (xbar - (528,531)) @ LA.inv(S) @ (xbar - (528,531))\n",
    "\n",
    "print(HT2)"
   ]
  },
  {
   "cell_type": "code",
   "execution_count": 17,
   "id": "ce25c4d4",
   "metadata": {},
   "outputs": [
    {
     "name": "stdout",
     "output_type": "stream",
     "text": [
      "0.31734652155670734\n"
     ]
    }
   ],
   "source": [
    "p = 2\n",
    "\n",
    "Fstat = ((n-p)/((n-1)*p))*HT2\n",
    "\n",
    "print (Fstat)"
   ]
  },
  {
   "cell_type": "code",
   "execution_count": 18,
   "id": "d5acbb81",
   "metadata": {},
   "outputs": [
    {
     "data": {
      "text/plain": [
       "0.728937286734305"
      ]
     },
     "execution_count": 18,
     "metadata": {},
     "output_type": "execute_result"
    }
   ],
   "source": [
    "1 - stats.f.cdf(Fstat,p,n-p)"
   ]
  },
  {
   "cell_type": "code",
   "execution_count": 19,
   "id": "fa827256",
   "metadata": {},
   "outputs": [
    {
     "name": "stdout",
     "output_type": "stream",
     "text": [
      "3.1038386606377033\n"
     ]
    }
   ],
   "source": [
    "alpha = .05\n",
    "critical = stats.f.ppf(1-alpha,p,n-p)\n",
    "\n",
    "print(critical)"
   ]
  },
  {
   "cell_type": "markdown",
   "id": "30d8c47b",
   "metadata": {},
   "source": [
    "To compare to this rejection region for WSU data we might simulate some potential models for our distribution,\n",
    "which has a slightly higher mean. Just as in the unviariate case, we can also compute a two sample test\n",
    "statistic testing whether the two schools distributions are the same. "
   ]
  },
  {
   "cell_type": "code",
   "execution_count": 20,
   "id": "c3146704",
   "metadata": {},
   "outputs": [
    {
     "data": {
      "text/plain": [
       "(9.292841475591059,\n",
       " 4.599487194989514,\n",
       " 0.012323578129282134,\n",
       " array([[5732.46859393, 4647.21214512],\n",
       "        [4647.21214512, 7333.70214835]]))"
      ]
     },
     "execution_count": 20,
     "metadata": {},
     "output_type": "execute_result"
    }
   ],
   "source": [
    "WSU = stats.multivariate_normal.rvs(mean=[560,560],cov=S,size=100)\n",
    "\n",
    "hotelling_t2(WSU,np.array([528,531]))"
   ]
  },
  {
   "cell_type": "code",
   "execution_count": 21,
   "id": "11456d69",
   "metadata": {},
   "outputs": [
    {
     "data": {
      "text/plain": [
       "(5.182076676206873,\n",
       " 2.5770327254650396,\n",
       " 0.07875528527581982,\n",
       " array([[5767.60807701, 4976.29115911],\n",
       "        [4976.29115911, 7777.05962123]]))"
      ]
     },
     "execution_count": 21,
     "metadata": {},
     "output_type": "execute_result"
    }
   ],
   "source": [
    "hotelling_t2(EWU_array,WSU)"
   ]
  },
  {
   "cell_type": "markdown",
   "id": "931b91e9",
   "metadata": {},
   "source": [
    "Thus, we are pretty confident in rejecting that the means for the WSU vector are the same as for the EWU data but less confident in rejecting that the two come from the same distribution overall. "
   ]
  },
  {
   "cell_type": "markdown",
   "id": "5fb168ce",
   "metadata": {},
   "source": [
    "We should also do some checks of the normality of the EWU data to ensure that this test is reasonable. "
   ]
  },
  {
   "cell_type": "code",
   "execution_count": 22,
   "id": "90e17c99",
   "metadata": {},
   "outputs": [
    {
     "data": {
      "text/plain": [
       "<matplotlib.collections.PathCollection at 0x1c9cba3cbb0>"
      ]
     },
     "execution_count": 22,
     "metadata": {},
     "output_type": "execute_result"
    },
    {
     "data": {
      "image/png": "[encoded data removed]",
      "text/plain": [
       "<Figure size 432x288 with 1 Axes>"
      ]
     },
     "metadata": {
      "needs_background": "light"
     },
     "output_type": "display_data"
    }
   ],
   "source": [
    "plt.scatter(EWU['Math'],EWU['Language'])"
   ]
  },
  {
   "cell_type": "code",
   "execution_count": 23,
   "id": "52244fac",
   "metadata": {},
   "outputs": [
    {
     "data": {
      "text/plain": [
       "(array([ 2.,  0.,  5.,  9.,  6., 10., 20.,  4.,  7.,  7.,  8.,  6.,  1.,\n",
       "         1.,  1.]),\n",
       " array([348.        , 373.66666667, 399.33333333, 425.        ,\n",
       "        450.66666667, 476.33333333, 502.        , 527.66666667,\n",
       "        553.33333333, 579.        , 604.66666667, 630.33333333,\n",
       "        656.        , 681.66666667, 707.33333333, 733.        ]),\n",
       " <BarContainer object of 15 artists>)"
      ]
     },
     "execution_count": 23,
     "metadata": {},
     "output_type": "execute_result"
    },
    {
     "data": {
      "image/png": "[encoded data removed]",
      "text/plain": [
       "<Figure size 432x288 with 1 Axes>"
      ]
     },
     "metadata": {
      "needs_background": "light"
     },
     "output_type": "display_data"
    }
   ],
   "source": [
    "plt.hist(EWU['Math'],bins=15)"
   ]
  },
  {
   "cell_type": "code",
   "execution_count": 24,
   "id": "d8dea9bf",
   "metadata": {},
   "outputs": [
    {
     "data": {
      "text/plain": [
       "(array([ 1.,  0.,  2.,  5., 10., 13., 19.,  9., 12.,  7.,  5.,  2.,  0.,\n",
       "         1.,  1.]),\n",
       " array([283.        , 319.46666667, 355.93333333, 392.4       ,\n",
       "        428.86666667, 465.33333333, 501.8       , 538.26666667,\n",
       "        574.73333333, 611.2       , 647.66666667, 684.13333333,\n",
       "        720.6       , 757.06666667, 793.53333333, 830.        ]),\n",
       " <BarContainer object of 15 artists>)"
      ]
     },
     "execution_count": 24,
     "metadata": {},
     "output_type": "execute_result"
    },
    {
     "data": {
      "image/png": "[encoded data removed]",
      "text/plain": [
       "<Figure size 432x288 with 1 Axes>"
      ]
     },
     "metadata": {
      "needs_background": "light"
     },
     "output_type": "display_data"
    }
   ],
   "source": [
    "plt.hist(EWU['Language'],bins=15)"
   ]
  },
  {
   "cell_type": "code",
   "execution_count": 25,
   "id": "981878e3",
   "metadata": {},
   "outputs": [
    {
     "data": {
      "image/png": "[encoded data removed]",
      "text/plain": [
       "<Figure size 432x288 with 1 Axes>"
      ]
     },
     "execution_count": 25,
     "metadata": {},
     "output_type": "execute_result"
    },
    {
     "data": {
      "image/png": "[encoded data removed]",
      "text/plain": [
       "<Figure size 432x288 with 1 Axes>"
      ]
     },
     "metadata": {
      "needs_background": "light"
     },
     "output_type": "display_data"
    }
   ],
   "source": [
    "sm.qqplot(EWU['Math'],fit=True,line=\"45\")"
   ]
  },
  {
   "cell_type": "code",
   "execution_count": 26,
   "id": "f78344a3",
   "metadata": {},
   "outputs": [
    {
     "data": {
      "image/png": "[encoded data removed]",
      "text/plain": [
       "<Figure size 432x288 with 1 Axes>"
      ]
     },
     "execution_count": 26,
     "metadata": {},
     "output_type": "execute_result"
    },
    {
     "data": {
      "image/png": "[encoded data removed]",
      "text/plain": [
       "<Figure size 432x288 with 1 Axes>"
      ]
     },
     "metadata": {
      "needs_background": "light"
     },
     "output_type": "display_data"
    }
   ],
   "source": [
    "sm.qqplot(EWU['Language'],fit=True,line=\"45\")"
   ]
  },
  {
   "cell_type": "code",
   "execution_count": 27,
   "id": "f1ada79d",
   "metadata": {},
   "outputs": [
    {
     "data": {
      "text/plain": [
       "<matplotlib.collections.PathCollection at 0x1c9ccd71910>"
      ]
     },
     "execution_count": 27,
     "metadata": {},
     "output_type": "execute_result"
    },
    {
     "data": {
      "image/png": "[encoded data removed]",
      "text/plain": [
       "<Figure size 432x288 with 1 Axes>"
      ]
     },
     "metadata": {
      "needs_background": "light"
     },
     "output_type": "display_data"
    }
   ],
   "source": [
    "M_distances = np.array([distance.mahalanobis(x, [528,531], LA.inv(S)) for x in EWU_array])\n",
    "d = M_distances**2\n",
    "\n",
    "plt.scatter(EWU_array[:,0],EWU_array[:,1],c=M_distances,s=2,cmap='jet')"
   ]
  },
  {
   "cell_type": "code",
   "execution_count": 28,
   "id": "5e022915",
   "metadata": {},
   "outputs": [
    {
     "data": {
      "image/png": "[encoded data removed]",
      "text/plain": [
       "<Figure size 432x288 with 1 Axes>"
      ]
     },
     "execution_count": 28,
     "metadata": {},
     "output_type": "execute_result"
    },
    {
     "data": {
      "image/png": "[encoded data removed]",
      "text/plain": [
       "<Figure size 432x288 with 1 Axes>"
      ]
     },
     "metadata": {
      "needs_background": "light"
     },
     "output_type": "display_data"
    }
   ],
   "source": [
    "sm.qqplot(d, stats.chi2, distargs=(2,), fit=True, line=\"45\")"
   ]
  },
  {
   "cell_type": "markdown",
   "id": "333c9ff3",
   "metadata": {},
   "source": [
    "This is a good notebook to do some exploring in. Try loading in some of the other datasets we have\n",
    "used this term (or those from the book) and compute some tests both with the built-in methods as well as\n",
    "direct computation. For each test, make sure you evaluate the normality of the data. It is also useful to do\n",
    "some of this testing with synthetic examples that you know should succeed or fail to build some intuition\n",
    "around what those cases look like."
   ]
  }
 ],
 "metadata": {
  "kernelspec": {
   "display_name": "Python 3 (ipykernel)",
   "language": "python",
   "name": "python3"
  },
  "language_info": {
   "codemirror_mode": {
    "name": "ipython",
    "version": 3
   },
   "file_extension": ".py",
   "mimetype": "text/x-python",
   "name": "python",
   "nbconvert_exporter": "python",
   "pygments_lexer": "ipython3",
   "version": "3.11.5"
  }
 },
 "nbformat": 4,
 "nbformat_minor": 5
}
