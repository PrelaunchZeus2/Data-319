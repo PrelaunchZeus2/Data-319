{
 "cells": [
  {
   "cell_type": "markdown",
   "metadata": {},
   "source": [
    "# Quiz 2\n",
    "# John Salmon"
   ]
  },
  {
   "cell_type": "markdown",
   "metadata": {},
   "source": [
    "### Question 1:\n",
    "What is the Jaccard set similarity for two following sets: A = {apple, banana, grapefruit, kiwi} and B = {banana, coconut, kiwi}?\n",
    "\n",
    "Report your answer as a decimal value."
   ]
  },
  {
   "cell_type": "code",
   "execution_count": 11,
   "metadata": {},
   "outputs": [
    {
     "name": "stdout",
     "output_type": "stream",
     "text": [
      "Jaccard SET similarity: 0.4\n"
     ]
    }
   ],
   "source": [
    "#Sets\n",
    "A = {\"apple\", \"banana\", \"grapefruit\", \"kiwi\"}\n",
    "B = {\"banana\", \"coconut\", \"kiwi\"}\n",
    "\n",
    "#Calculate inter and union of sets\n",
    "intersection = len(A.intersection(B))\n",
    "union = len(A.union(B))\n",
    "\n",
    "#Calculate Jaccard similarity as size of intersection/ size of union\n",
    "similarity = intersection / union\n",
    "print(f\"Jaccard SET similarity: {similarity}\")"
   ]
  },
  {
   "cell_type": "markdown",
   "metadata": {},
   "source": [
    "### Question 2: \n",
    "What is the Jaccard bag similarity for two following bags: A = {apple, banana, banana, grapefruit, kiwi} and B = {banana, banana, coconut, kiwi, kiwi}?\n",
    "\n",
    "Report your answer as a decimal value"
   ]
  },
  {
   "cell_type": "code",
   "execution_count": 13,
   "metadata": {},
   "outputs": [
    {
     "name": "stdout",
     "output_type": "stream",
     "text": [
      "Jaccard BAG similarity: 0.2857142857142857\n"
     ]
    }
   ],
   "source": [
    "from collections import Counter #allows for tracking multiplicity of elements\n",
    "#Bags\n",
    "A = Counter([\"apple\", \"banana\", \"grapefruit\", \"kiwi\"])\n",
    "B = Counter([\"banana\", \"banana\", \"coconut\", \"kiwi\", \"kiwi\"])\n",
    "\n",
    "#calculate inter and union taking into account repeating elements\n",
    "inter = len(list((A & B).elements()))\n",
    "union = len(list((A | B).elements()))\n",
    "\n",
    "#Calculate Jaccard similarity\n",
    "similarity = inter / union\n",
    "print(f\"Jaccard BAG similarity: {similarity}\")\n",
    "\n",
    "     "
   ]
  }
 ],
 "metadata": {
  "kernelspec": {
   "display_name": "Python 3",
   "language": "python",
   "name": "python3"
  },
  "language_info": {
   "codemirror_mode": {
    "name": "ipython",
    "version": 3
   },
   "file_extension": ".py",
   "mimetype": "text/x-python",
   "name": "python",
   "nbconvert_exporter": "python",
   "pygments_lexer": "ipython3",
   "version": "3.11.7"
  }
 },
 "nbformat": 4,
 "nbformat_minor": 2
}
